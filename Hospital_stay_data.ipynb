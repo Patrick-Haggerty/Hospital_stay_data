{
 "cells": [
  {
   "cell_type": "code",
   "execution_count": 1,
   "metadata": {},
   "outputs": [],
   "source": [
    "import pandas as pd\n",
    "from sklearn.model_selection import train_test_split\n",
    "data = pd.read_csv(r'C:\\Users\\16pha\\myenv\\datasets\\train_data.csv')"
   ]
  },
  {
   "cell_type": "code",
   "execution_count": 2,
   "metadata": {},
   "outputs": [],
   "source": [
    "#type of admisssion,region code, hospital type, hospital region code, and department can be changed into numerical values in any order most likely, if they are even neccessary in the dataset.\n",
    "# severity, stay length, and type may need to be converted in a specific way ie 0 as least severe"
   ]
  },
  {
   "cell_type": "code",
   "execution_count": 3,
   "metadata": {},
   "outputs": [],
   "source": [
    "# region code and hospital type we can do one hot encoding and with type of admission"
   ]
  },
  {
   "cell_type": "code",
   "execution_count": 4,
   "metadata": {},
   "outputs": [],
   "source": [
    "data = pd.concat([data,pd.get_dummies(data['Hospital_region_code'], prefix='region')],axis=1).drop(['Hospital_region_code'],axis=1)"
   ]
  },
  {
   "cell_type": "code",
   "execution_count": 5,
   "metadata": {},
   "outputs": [],
   "source": [
    "data = pd.concat([data,pd.get_dummies(data['Type of Admission'], prefix='Admission')],axis=1).drop(['Type of Admission'],axis=1)"
   ]
  },
  {
   "cell_type": "code",
   "execution_count": 6,
   "metadata": {},
   "outputs": [
    {
     "data": {
      "text/html": [
       "<div>\n",
       "<style scoped>\n",
       "    .dataframe tbody tr th:only-of-type {\n",
       "        vertical-align: middle;\n",
       "    }\n",
       "\n",
       "    .dataframe tbody tr th {\n",
       "        vertical-align: top;\n",
       "    }\n",
       "\n",
       "    .dataframe thead th {\n",
       "        text-align: right;\n",
       "    }\n",
       "</style>\n",
       "<table border=\"1\" class=\"dataframe\">\n",
       "  <thead>\n",
       "    <tr style=\"text-align: right;\">\n",
       "      <th></th>\n",
       "      <th>case_id</th>\n",
       "      <th>Hospital_code</th>\n",
       "      <th>Hospital_type_code</th>\n",
       "      <th>City_Code_Hospital</th>\n",
       "      <th>Available Extra Rooms in Hospital</th>\n",
       "      <th>Department</th>\n",
       "      <th>Ward_Type</th>\n",
       "      <th>Ward_Facility_Code</th>\n",
       "      <th>Bed Grade</th>\n",
       "      <th>patientid</th>\n",
       "      <th>...</th>\n",
       "      <th>Visitors with Patient</th>\n",
       "      <th>Age</th>\n",
       "      <th>Admission_Deposit</th>\n",
       "      <th>Stay</th>\n",
       "      <th>region_X</th>\n",
       "      <th>region_Y</th>\n",
       "      <th>region_Z</th>\n",
       "      <th>Admission_Emergency</th>\n",
       "      <th>Admission_Trauma</th>\n",
       "      <th>Admission_Urgent</th>\n",
       "    </tr>\n",
       "  </thead>\n",
       "  <tbody>\n",
       "    <tr>\n",
       "      <th>0</th>\n",
       "      <td>1</td>\n",
       "      <td>8</td>\n",
       "      <td>c</td>\n",
       "      <td>3</td>\n",
       "      <td>3</td>\n",
       "      <td>radiotherapy</td>\n",
       "      <td>R</td>\n",
       "      <td>F</td>\n",
       "      <td>2.0</td>\n",
       "      <td>31397</td>\n",
       "      <td>...</td>\n",
       "      <td>2</td>\n",
       "      <td>5</td>\n",
       "      <td>4911.0</td>\n",
       "      <td>0</td>\n",
       "      <td>0</td>\n",
       "      <td>0</td>\n",
       "      <td>1</td>\n",
       "      <td>1</td>\n",
       "      <td>0</td>\n",
       "      <td>0</td>\n",
       "    </tr>\n",
       "    <tr>\n",
       "      <th>1</th>\n",
       "      <td>2</td>\n",
       "      <td>2</td>\n",
       "      <td>c</td>\n",
       "      <td>5</td>\n",
       "      <td>2</td>\n",
       "      <td>radiotherapy</td>\n",
       "      <td>S</td>\n",
       "      <td>F</td>\n",
       "      <td>2.0</td>\n",
       "      <td>31397</td>\n",
       "      <td>...</td>\n",
       "      <td>2</td>\n",
       "      <td>5</td>\n",
       "      <td>5954.0</td>\n",
       "      <td>4</td>\n",
       "      <td>0</td>\n",
       "      <td>0</td>\n",
       "      <td>1</td>\n",
       "      <td>0</td>\n",
       "      <td>1</td>\n",
       "      <td>0</td>\n",
       "    </tr>\n",
       "    <tr>\n",
       "      <th>2</th>\n",
       "      <td>3</td>\n",
       "      <td>10</td>\n",
       "      <td>e</td>\n",
       "      <td>1</td>\n",
       "      <td>2</td>\n",
       "      <td>anesthesia</td>\n",
       "      <td>S</td>\n",
       "      <td>E</td>\n",
       "      <td>2.0</td>\n",
       "      <td>31397</td>\n",
       "      <td>...</td>\n",
       "      <td>2</td>\n",
       "      <td>5</td>\n",
       "      <td>4745.0</td>\n",
       "      <td>3</td>\n",
       "      <td>1</td>\n",
       "      <td>0</td>\n",
       "      <td>0</td>\n",
       "      <td>0</td>\n",
       "      <td>1</td>\n",
       "      <td>0</td>\n",
       "    </tr>\n",
       "    <tr>\n",
       "      <th>3</th>\n",
       "      <td>4</td>\n",
       "      <td>26</td>\n",
       "      <td>b</td>\n",
       "      <td>2</td>\n",
       "      <td>2</td>\n",
       "      <td>radiotherapy</td>\n",
       "      <td>R</td>\n",
       "      <td>D</td>\n",
       "      <td>2.0</td>\n",
       "      <td>31397</td>\n",
       "      <td>...</td>\n",
       "      <td>2</td>\n",
       "      <td>5</td>\n",
       "      <td>7272.0</td>\n",
       "      <td>4</td>\n",
       "      <td>0</td>\n",
       "      <td>1</td>\n",
       "      <td>0</td>\n",
       "      <td>0</td>\n",
       "      <td>1</td>\n",
       "      <td>0</td>\n",
       "    </tr>\n",
       "    <tr>\n",
       "      <th>4</th>\n",
       "      <td>5</td>\n",
       "      <td>26</td>\n",
       "      <td>b</td>\n",
       "      <td>2</td>\n",
       "      <td>2</td>\n",
       "      <td>radiotherapy</td>\n",
       "      <td>S</td>\n",
       "      <td>D</td>\n",
       "      <td>2.0</td>\n",
       "      <td>31397</td>\n",
       "      <td>...</td>\n",
       "      <td>2</td>\n",
       "      <td>5</td>\n",
       "      <td>5558.0</td>\n",
       "      <td>4</td>\n",
       "      <td>0</td>\n",
       "      <td>1</td>\n",
       "      <td>0</td>\n",
       "      <td>0</td>\n",
       "      <td>1</td>\n",
       "      <td>0</td>\n",
       "    </tr>\n",
       "  </tbody>\n",
       "</table>\n",
       "<p>5 rows × 22 columns</p>\n",
       "</div>"
      ],
      "text/plain": [
       "   case_id  Hospital_code Hospital_type_code  City_Code_Hospital  \\\n",
       "0        1              8                  c                   3   \n",
       "1        2              2                  c                   5   \n",
       "2        3             10                  e                   1   \n",
       "3        4             26                  b                   2   \n",
       "4        5             26                  b                   2   \n",
       "\n",
       "   Available Extra Rooms in Hospital    Department Ward_Type  \\\n",
       "0                                  3  radiotherapy         R   \n",
       "1                                  2  radiotherapy         S   \n",
       "2                                  2    anesthesia         S   \n",
       "3                                  2  radiotherapy         R   \n",
       "4                                  2  radiotherapy         S   \n",
       "\n",
       "  Ward_Facility_Code  Bed Grade  patientid  ...  Visitors with Patient Age  \\\n",
       "0                  F        2.0      31397  ...                      2   5   \n",
       "1                  F        2.0      31397  ...                      2   5   \n",
       "2                  E        2.0      31397  ...                      2   5   \n",
       "3                  D        2.0      31397  ...                      2   5   \n",
       "4                  D        2.0      31397  ...                      2   5   \n",
       "\n",
       "   Admission_Deposit  Stay  region_X  region_Y  region_Z  Admission_Emergency  \\\n",
       "0             4911.0     0         0         0         1                    1   \n",
       "1             5954.0     4         0         0         1                    0   \n",
       "2             4745.0     3         1         0         0                    0   \n",
       "3             7272.0     4         0         1         0                    0   \n",
       "4             5558.0     4         0         1         0                    0   \n",
       "\n",
       "   Admission_Trauma  Admission_Urgent  \n",
       "0                 0                 0  \n",
       "1                 1                 0  \n",
       "2                 1                 0  \n",
       "3                 1                 0  \n",
       "4                 1                 0  \n",
       "\n",
       "[5 rows x 22 columns]"
      ]
     },
     "execution_count": 6,
     "metadata": {},
     "output_type": "execute_result"
    }
   ],
   "source": [
    "replace_map = {'Stay':{'0-10': 0, '11-20': 1, '21-30': 2, '31-40': 3, '41-50': 4, '51-60': 5, '61-70': 6, '71-80': 7, '81-90': 8, '91-100': 9, 'More than 100 Days': 10}}\n",
    "data.replace(replace_map,inplace=True)\n",
    "replace_map_age = {'Age':{'0-10': 0, '11-20': 1, '21-30': 2, '31-40': 3, '41-50': 4, '51-60': 5, '61-70': 6, '71-80': 7, '81-90': 8, '91-100': 9}}\n",
    "data.replace(replace_map_age,inplace=True)\n",
    "data.head()"
   ]
  },
  {
   "cell_type": "code",
   "execution_count": 7,
   "metadata": {},
   "outputs": [
    {
     "data": {
      "text/plain": [
       "gynecology            249486\n",
       "anesthesia             29649\n",
       "radiotherapy           28516\n",
       "TB & Chest disease      9586\n",
       "surgery                 1201\n",
       "Name: Department, dtype: int64"
      ]
     },
     "execution_count": 7,
     "metadata": {},
     "output_type": "execute_result"
    },
    {
     "data": {
      "image/png": "[encoded data removed]",
      "text/plain": [
       "<Figure size 432x288 with 1 Axes>"
      ]
     },
     "metadata": {
      "needs_background": "light"
     },
     "output_type": "display_data"
    }
   ],
   "source": [
    "data.Department.unique()\n",
    "data.boxplot(by = 'Department',column = 'Stay',grid = False)\n",
    "data.Department.value_counts()\n"
   ]
  },
  {
   "cell_type": "code",
   "execution_count": 8,
   "metadata": {},
   "outputs": [
    {
     "data": {
      "text/plain": [
       "F    112753\n",
       "E     55351\n",
       "D     51809\n",
       "C     35463\n",
       "B     35156\n",
       "A     27906\n",
       "Name: Ward_Facility_Code, dtype: int64"
      ]
     },
     "execution_count": 8,
     "metadata": {},
     "output_type": "execute_result"
    },
    {
     "data": {
      "image/png": "[encoded data removed]",
      "text/plain": [
       "<Figure size 432x288 with 1 Axes>"
      ]
     },
     "metadata": {
      "needs_background": "light"
     },
     "output_type": "display_data"
    }
   ],
   "source": [
    "data['Ward_Facility_Code'].unique()\n",
    "data.boxplot(by = 'Ward_Facility_Code',column = 'Stay',grid = False)\n",
    "data['Ward_Facility_Code'].value_counts()"
   ]
  },
  {
   "cell_type": "code",
   "execution_count": 9,
   "metadata": {},
   "outputs": [
    {
     "data": {
      "text/plain": [
       "1     55351\n",
       "2     51809\n",
       "6     46991\n",
       "7     35463\n",
       "3     31569\n",
       "5     31105\n",
       "9     26277\n",
       "11    17137\n",
       "4     13857\n",
       "10     5249\n",
       "13     3630\n",
       "Name: City_Code_Hospital, dtype: int64"
      ]
     },
     "execution_count": 9,
     "metadata": {},
     "output_type": "execute_result"
    },
    {
     "data": {
      "image/png": "[encoded data removed]",
      "text/plain": [
       "<Figure size 432x288 with 1 Axes>"
      ]
     },
     "metadata": {
      "needs_background": "light"
     },
     "output_type": "display_data"
    }
   ],
   "source": [
    "data['City_Code_Hospital'].unique()\n",
    "data.boxplot(by = 'City_Code_Hospital',column = 'Stay',grid = False)\n",
    "data['City_Code_Hospital'].value_counts()"
   ]
  },
  {
   "cell_type": "code",
   "execution_count": 10,
   "metadata": {},
   "outputs": [
    {
     "data": {
      "text/plain": [
       "26    33076\n",
       "23    26566\n",
       "19    21219\n",
       "6     20425\n",
       "11    17328\n",
       "14    17328\n",
       "28    17137\n",
       "27    14244\n",
       "9     11510\n",
       "29    11311\n",
       "12    11297\n",
       "32    10703\n",
       "25     9834\n",
       "10     9435\n",
       "15     9257\n",
       "21     8150\n",
       "24     7992\n",
       "3      7116\n",
       "17     5501\n",
       "5      5261\n",
       "1      5249\n",
       "13     5236\n",
       "2      5102\n",
       "30     5002\n",
       "22     4277\n",
       "31     3967\n",
       "16     3671\n",
       "8      3663\n",
       "18     3630\n",
       "20     1405\n",
       "7      1306\n",
       "4      1240\n",
       "Name: Hospital_code, dtype: int64"
      ]
     },
     "execution_count": 10,
     "metadata": {},
     "output_type": "execute_result"
    },
    {
     "data": {
      "image/png": "[encoded data removed]",
      "text/plain": [
       "<Figure size 432x288 with 1 Axes>"
      ]
     },
     "metadata": {
      "needs_background": "light"
     },
     "output_type": "display_data"
    }
   ],
   "source": [
    "data['Hospital_code'].unique()\n",
    "data.boxplot(by = 'Hospital_code',column = 'Stay',grid = False)\n",
    "data['Hospital_code'].value_counts()"
   ]
  },
  {
   "cell_type": "code",
   "execution_count": 11,
   "metadata": {},
   "outputs": [],
   "source": [
    "drop_cols = ['case_id','patientid','City_Code_Hospital', 'City_Code_Patient','Ward_Facility_Code','Department','Hospital_code']\n",
    "data.drop(drop_cols,axis=1,inplace = True)"
   ]
  },
  {
   "cell_type": "code",
   "execution_count": 12,
   "metadata": {},
   "outputs": [
    {
     "name": "stdout",
     "output_type": "stream",
     "text": [
      "['c' 'e' 'b' 'a' 'f' 'd' 'g']\n"
     ]
    },
    {
     "data": {
      "text/plain": [
       "a    143425\n",
       "b     68946\n",
       "c     45928\n",
       "e     24770\n",
       "d     20389\n",
       "f     10703\n",
       "g      4277\n",
       "Name: Hospital_type_code, dtype: int64"
      ]
     },
     "execution_count": 12,
     "metadata": {},
     "output_type": "execute_result"
    },
    {
     "data": {
      "image/png": "[encoded data removed]",
      "text/plain": [
       "<Figure size 432x288 with 1 Axes>"
      ]
     },
     "metadata": {
      "needs_background": "light"
     },
     "output_type": "display_data"
    }
   ],
   "source": [
    "print(data['Hospital_type_code'].unique())\n",
    "data.boxplot(by = 'Hospital_type_code',column = 'Stay',grid = False)\n",
    "data['Hospital_type_code'].value_counts()"
   ]
  },
  {
   "cell_type": "code",
   "execution_count": 13,
   "metadata": {},
   "outputs": [
    {
     "data": {
      "text/html": [
       "<div>\n",
       "<style scoped>\n",
       "    .dataframe tbody tr th:only-of-type {\n",
       "        vertical-align: middle;\n",
       "    }\n",
       "\n",
       "    .dataframe tbody tr th {\n",
       "        vertical-align: top;\n",
       "    }\n",
       "\n",
       "    .dataframe thead th {\n",
       "        text-align: right;\n",
       "    }\n",
       "</style>\n",
       "<table border=\"1\" class=\"dataframe\">\n",
       "  <thead>\n",
       "    <tr style=\"text-align: right;\">\n",
       "      <th></th>\n",
       "      <th>Hospital_type_code</th>\n",
       "      <th>Available Extra Rooms in Hospital</th>\n",
       "      <th>Ward_Type</th>\n",
       "      <th>Bed Grade</th>\n",
       "      <th>Severity of Illness</th>\n",
       "      <th>Visitors with Patient</th>\n",
       "      <th>Age</th>\n",
       "      <th>Admission_Deposit</th>\n",
       "      <th>Stay</th>\n",
       "      <th>region_X</th>\n",
       "      <th>region_Y</th>\n",
       "      <th>region_Z</th>\n",
       "      <th>Admission_Emergency</th>\n",
       "      <th>Admission_Trauma</th>\n",
       "      <th>Admission_Urgent</th>\n",
       "    </tr>\n",
       "  </thead>\n",
       "  <tbody>\n",
       "    <tr>\n",
       "      <th>0</th>\n",
       "      <td>2</td>\n",
       "      <td>3</td>\n",
       "      <td>R</td>\n",
       "      <td>2.0</td>\n",
       "      <td>Extreme</td>\n",
       "      <td>2</td>\n",
       "      <td>5</td>\n",
       "      <td>4911.0</td>\n",
       "      <td>0</td>\n",
       "      <td>0</td>\n",
       "      <td>0</td>\n",
       "      <td>1</td>\n",
       "      <td>1</td>\n",
       "      <td>0</td>\n",
       "      <td>0</td>\n",
       "    </tr>\n",
       "    <tr>\n",
       "      <th>1</th>\n",
       "      <td>2</td>\n",
       "      <td>2</td>\n",
       "      <td>S</td>\n",
       "      <td>2.0</td>\n",
       "      <td>Extreme</td>\n",
       "      <td>2</td>\n",
       "      <td>5</td>\n",
       "      <td>5954.0</td>\n",
       "      <td>4</td>\n",
       "      <td>0</td>\n",
       "      <td>0</td>\n",
       "      <td>1</td>\n",
       "      <td>0</td>\n",
       "      <td>1</td>\n",
       "      <td>0</td>\n",
       "    </tr>\n",
       "    <tr>\n",
       "      <th>2</th>\n",
       "      <td>4</td>\n",
       "      <td>2</td>\n",
       "      <td>S</td>\n",
       "      <td>2.0</td>\n",
       "      <td>Extreme</td>\n",
       "      <td>2</td>\n",
       "      <td>5</td>\n",
       "      <td>4745.0</td>\n",
       "      <td>3</td>\n",
       "      <td>1</td>\n",
       "      <td>0</td>\n",
       "      <td>0</td>\n",
       "      <td>0</td>\n",
       "      <td>1</td>\n",
       "      <td>0</td>\n",
       "    </tr>\n",
       "    <tr>\n",
       "      <th>3</th>\n",
       "      <td>1</td>\n",
       "      <td>2</td>\n",
       "      <td>R</td>\n",
       "      <td>2.0</td>\n",
       "      <td>Extreme</td>\n",
       "      <td>2</td>\n",
       "      <td>5</td>\n",
       "      <td>7272.0</td>\n",
       "      <td>4</td>\n",
       "      <td>0</td>\n",
       "      <td>1</td>\n",
       "      <td>0</td>\n",
       "      <td>0</td>\n",
       "      <td>1</td>\n",
       "      <td>0</td>\n",
       "    </tr>\n",
       "    <tr>\n",
       "      <th>4</th>\n",
       "      <td>1</td>\n",
       "      <td>2</td>\n",
       "      <td>S</td>\n",
       "      <td>2.0</td>\n",
       "      <td>Extreme</td>\n",
       "      <td>2</td>\n",
       "      <td>5</td>\n",
       "      <td>5558.0</td>\n",
       "      <td>4</td>\n",
       "      <td>0</td>\n",
       "      <td>1</td>\n",
       "      <td>0</td>\n",
       "      <td>0</td>\n",
       "      <td>1</td>\n",
       "      <td>0</td>\n",
       "    </tr>\n",
       "  </tbody>\n",
       "</table>\n",
       "</div>"
      ],
      "text/plain": [
       "   Hospital_type_code  Available Extra Rooms in Hospital Ward_Type  Bed Grade  \\\n",
       "0                   2                                  3         R        2.0   \n",
       "1                   2                                  2         S        2.0   \n",
       "2                   4                                  2         S        2.0   \n",
       "3                   1                                  2         R        2.0   \n",
       "4                   1                                  2         S        2.0   \n",
       "\n",
       "  Severity of Illness  Visitors with Patient  Age  Admission_Deposit  Stay  \\\n",
       "0             Extreme                      2    5             4911.0     0   \n",
       "1             Extreme                      2    5             5954.0     4   \n",
       "2             Extreme                      2    5             4745.0     3   \n",
       "3             Extreme                      2    5             7272.0     4   \n",
       "4             Extreme                      2    5             5558.0     4   \n",
       "\n",
       "   region_X  region_Y  region_Z  Admission_Emergency  Admission_Trauma  \\\n",
       "0         0         0         1                    1                 0   \n",
       "1         0         0         1                    0                 1   \n",
       "2         1         0         0                    0                 1   \n",
       "3         0         1         0                    0                 1   \n",
       "4         0         1         0                    0                 1   \n",
       "\n",
       "   Admission_Urgent  \n",
       "0                 0  \n",
       "1                 0  \n",
       "2                 0  \n",
       "3                 0  \n",
       "4                 0  "
      ]
     },
     "execution_count": 13,
     "metadata": {},
     "output_type": "execute_result"
    }
   ],
   "source": [
    "replace_map_code = {'Hospital_type_code':{'a':0, 'b':1,'c':2,'d':3,'e':4,'f':5,'g':6}}\n",
    "data.replace(replace_map_code,inplace=True)\n",
    "data.head()"
   ]
  },
  {
   "cell_type": "code",
   "execution_count": 14,
   "metadata": {},
   "outputs": [
    {
     "data": {
      "text/plain": [
       "<matplotlib.axes._subplots.AxesSubplot at 0x1f9ee3c6cd0>"
      ]
     },
     "execution_count": 14,
     "metadata": {},
     "output_type": "execute_result"
    },
    {
     "data": {
      "image/png": "[encoded data removed]",
      "text/plain": [
       "<Figure size 432x288 with 1 Axes>"
      ]
     },
     "metadata": {
      "needs_background": "light"
     },
     "output_type": "display_data"
    }
   ],
   "source": [
    "data.boxplot(by = 'Ward_Type',column = 'Stay',grid = False)"
   ]
  },
  {
   "cell_type": "code",
   "execution_count": 15,
   "metadata": {},
   "outputs": [
    {
     "data": {
      "text/plain": [
       "R    127947\n",
       "Q    106165\n",
       "S     77794\n",
       "P      5046\n",
       "T      1477\n",
       "U         9\n",
       "Name: Ward_Type, dtype: int64"
      ]
     },
     "execution_count": 15,
     "metadata": {},
     "output_type": "execute_result"
    }
   ],
   "source": [
    "data['Ward_Type'].value_counts() # s is an extreme outlier in this case"
   ]
  },
  {
   "cell_type": "code",
   "execution_count": 16,
   "metadata": {},
   "outputs": [
    {
     "data": {
      "text/html": [
       "<div>\n",
       "<style scoped>\n",
       "    .dataframe tbody tr th:only-of-type {\n",
       "        vertical-align: middle;\n",
       "    }\n",
       "\n",
       "    .dataframe tbody tr th {\n",
       "        vertical-align: top;\n",
       "    }\n",
       "\n",
       "    .dataframe thead th {\n",
       "        text-align: right;\n",
       "    }\n",
       "</style>\n",
       "<table border=\"1\" class=\"dataframe\">\n",
       "  <thead>\n",
       "    <tr style=\"text-align: right;\">\n",
       "      <th></th>\n",
       "      <th>Hospital_type_code</th>\n",
       "      <th>Available Extra Rooms in Hospital</th>\n",
       "      <th>Ward_Type</th>\n",
       "      <th>Bed Grade</th>\n",
       "      <th>Severity of Illness</th>\n",
       "      <th>Visitors with Patient</th>\n",
       "      <th>Age</th>\n",
       "      <th>Admission_Deposit</th>\n",
       "      <th>Stay</th>\n",
       "      <th>region_X</th>\n",
       "      <th>region_Y</th>\n",
       "      <th>region_Z</th>\n",
       "      <th>Admission_Emergency</th>\n",
       "      <th>Admission_Trauma</th>\n",
       "      <th>Admission_Urgent</th>\n",
       "    </tr>\n",
       "  </thead>\n",
       "  <tbody>\n",
       "    <tr>\n",
       "      <th>0</th>\n",
       "      <td>2</td>\n",
       "      <td>3</td>\n",
       "      <td>0</td>\n",
       "      <td>2.0</td>\n",
       "      <td>Extreme</td>\n",
       "      <td>2</td>\n",
       "      <td>5</td>\n",
       "      <td>4911.0</td>\n",
       "      <td>0</td>\n",
       "      <td>0</td>\n",
       "      <td>0</td>\n",
       "      <td>1</td>\n",
       "      <td>1</td>\n",
       "      <td>0</td>\n",
       "      <td>0</td>\n",
       "    </tr>\n",
       "    <tr>\n",
       "      <th>1</th>\n",
       "      <td>2</td>\n",
       "      <td>2</td>\n",
       "      <td>1</td>\n",
       "      <td>2.0</td>\n",
       "      <td>Extreme</td>\n",
       "      <td>2</td>\n",
       "      <td>5</td>\n",
       "      <td>5954.0</td>\n",
       "      <td>4</td>\n",
       "      <td>0</td>\n",
       "      <td>0</td>\n",
       "      <td>1</td>\n",
       "      <td>0</td>\n",
       "      <td>1</td>\n",
       "      <td>0</td>\n",
       "    </tr>\n",
       "    <tr>\n",
       "      <th>2</th>\n",
       "      <td>4</td>\n",
       "      <td>2</td>\n",
       "      <td>1</td>\n",
       "      <td>2.0</td>\n",
       "      <td>Extreme</td>\n",
       "      <td>2</td>\n",
       "      <td>5</td>\n",
       "      <td>4745.0</td>\n",
       "      <td>3</td>\n",
       "      <td>1</td>\n",
       "      <td>0</td>\n",
       "      <td>0</td>\n",
       "      <td>0</td>\n",
       "      <td>1</td>\n",
       "      <td>0</td>\n",
       "    </tr>\n",
       "    <tr>\n",
       "      <th>3</th>\n",
       "      <td>1</td>\n",
       "      <td>2</td>\n",
       "      <td>0</td>\n",
       "      <td>2.0</td>\n",
       "      <td>Extreme</td>\n",
       "      <td>2</td>\n",
       "      <td>5</td>\n",
       "      <td>7272.0</td>\n",
       "      <td>4</td>\n",
       "      <td>0</td>\n",
       "      <td>1</td>\n",
       "      <td>0</td>\n",
       "      <td>0</td>\n",
       "      <td>1</td>\n",
       "      <td>0</td>\n",
       "    </tr>\n",
       "    <tr>\n",
       "      <th>4</th>\n",
       "      <td>1</td>\n",
       "      <td>2</td>\n",
       "      <td>1</td>\n",
       "      <td>2.0</td>\n",
       "      <td>Extreme</td>\n",
       "      <td>2</td>\n",
       "      <td>5</td>\n",
       "      <td>5558.0</td>\n",
       "      <td>4</td>\n",
       "      <td>0</td>\n",
       "      <td>1</td>\n",
       "      <td>0</td>\n",
       "      <td>0</td>\n",
       "      <td>1</td>\n",
       "      <td>0</td>\n",
       "    </tr>\n",
       "  </tbody>\n",
       "</table>\n",
       "</div>"
      ],
      "text/plain": [
       "   Hospital_type_code  Available Extra Rooms in Hospital  Ward_Type  \\\n",
       "0                   2                                  3          0   \n",
       "1                   2                                  2          1   \n",
       "2                   4                                  2          1   \n",
       "3                   1                                  2          0   \n",
       "4                   1                                  2          1   \n",
       "\n",
       "   Bed Grade Severity of Illness  Visitors with Patient  Age  \\\n",
       "0        2.0             Extreme                      2    5   \n",
       "1        2.0             Extreme                      2    5   \n",
       "2        2.0             Extreme                      2    5   \n",
       "3        2.0             Extreme                      2    5   \n",
       "4        2.0             Extreme                      2    5   \n",
       "\n",
       "   Admission_Deposit  Stay  region_X  region_Y  region_Z  Admission_Emergency  \\\n",
       "0             4911.0     0         0         0         1                    1   \n",
       "1             5954.0     4         0         0         1                    0   \n",
       "2             4745.0     3         1         0         0                    0   \n",
       "3             7272.0     4         0         1         0                    0   \n",
       "4             5558.0     4         0         1         0                    0   \n",
       "\n",
       "   Admission_Trauma  Admission_Urgent  \n",
       "0                 0                 0  \n",
       "1                 1                 0  \n",
       "2                 1                 0  \n",
       "3                 1                 0  \n",
       "4                 1                 0  "
      ]
     },
     "execution_count": 16,
     "metadata": {},
     "output_type": "execute_result"
    }
   ],
   "source": [
    "replace_map_type = {'Ward_Type':{'R':0,'P':0,'Q':0,'S':1,'T':0,\"U\":0}}\n",
    "data.replace(replace_map_type,inplace=True)\n",
    "data.head()"
   ]
  },
  {
   "cell_type": "code",
   "execution_count": 17,
   "metadata": {},
   "outputs": [
    {
     "data": {
      "text/plain": [
       "<matplotlib.axes._subplots.AxesSubplot at 0x1f9ed518040>"
      ]
     },
     "execution_count": 17,
     "metadata": {},
     "output_type": "execute_result"
    },
    {
     "data": {
      "image/png": "[encoded data removed]",
      "text/plain": [
       "<Figure size 432x288 with 1 Axes>"
      ]
     },
     "metadata": {
      "needs_background": "light"
     },
     "output_type": "display_data"
    }
   ],
   "source": [
    "data.boxplot(by = 'Severity of Illness',column = 'Stay',grid = False)"
   ]
  },
  {
   "cell_type": "code",
   "execution_count": 18,
   "metadata": {},
   "outputs": [
    {
     "data": {
      "text/html": [
       "<div>\n",
       "<style scoped>\n",
       "    .dataframe tbody tr th:only-of-type {\n",
       "        vertical-align: middle;\n",
       "    }\n",
       "\n",
       "    .dataframe tbody tr th {\n",
       "        vertical-align: top;\n",
       "    }\n",
       "\n",
       "    .dataframe thead th {\n",
       "        text-align: right;\n",
       "    }\n",
       "</style>\n",
       "<table border=\"1\" class=\"dataframe\">\n",
       "  <thead>\n",
       "    <tr style=\"text-align: right;\">\n",
       "      <th></th>\n",
       "      <th>Hospital_type_code</th>\n",
       "      <th>Available Extra Rooms in Hospital</th>\n",
       "      <th>Ward_Type</th>\n",
       "      <th>Bed Grade</th>\n",
       "      <th>Severity of Illness</th>\n",
       "      <th>Visitors with Patient</th>\n",
       "      <th>Age</th>\n",
       "      <th>Admission_Deposit</th>\n",
       "      <th>Stay</th>\n",
       "      <th>region_X</th>\n",
       "      <th>region_Y</th>\n",
       "      <th>region_Z</th>\n",
       "      <th>Admission_Emergency</th>\n",
       "      <th>Admission_Trauma</th>\n",
       "      <th>Admission_Urgent</th>\n",
       "    </tr>\n",
       "  </thead>\n",
       "  <tbody>\n",
       "    <tr>\n",
       "      <th>0</th>\n",
       "      <td>2</td>\n",
       "      <td>3</td>\n",
       "      <td>0</td>\n",
       "      <td>2.0</td>\n",
       "      <td>2</td>\n",
       "      <td>2</td>\n",
       "      <td>5</td>\n",
       "      <td>4911.0</td>\n",
       "      <td>0</td>\n",
       "      <td>0</td>\n",
       "      <td>0</td>\n",
       "      <td>1</td>\n",
       "      <td>1</td>\n",
       "      <td>0</td>\n",
       "      <td>0</td>\n",
       "    </tr>\n",
       "    <tr>\n",
       "      <th>1</th>\n",
       "      <td>2</td>\n",
       "      <td>2</td>\n",
       "      <td>1</td>\n",
       "      <td>2.0</td>\n",
       "      <td>2</td>\n",
       "      <td>2</td>\n",
       "      <td>5</td>\n",
       "      <td>5954.0</td>\n",
       "      <td>4</td>\n",
       "      <td>0</td>\n",
       "      <td>0</td>\n",
       "      <td>1</td>\n",
       "      <td>0</td>\n",
       "      <td>1</td>\n",
       "      <td>0</td>\n",
       "    </tr>\n",
       "    <tr>\n",
       "      <th>2</th>\n",
       "      <td>4</td>\n",
       "      <td>2</td>\n",
       "      <td>1</td>\n",
       "      <td>2.0</td>\n",
       "      <td>2</td>\n",
       "      <td>2</td>\n",
       "      <td>5</td>\n",
       "      <td>4745.0</td>\n",
       "      <td>3</td>\n",
       "      <td>1</td>\n",
       "      <td>0</td>\n",
       "      <td>0</td>\n",
       "      <td>0</td>\n",
       "      <td>1</td>\n",
       "      <td>0</td>\n",
       "    </tr>\n",
       "    <tr>\n",
       "      <th>3</th>\n",
       "      <td>1</td>\n",
       "      <td>2</td>\n",
       "      <td>0</td>\n",
       "      <td>2.0</td>\n",
       "      <td>2</td>\n",
       "      <td>2</td>\n",
       "      <td>5</td>\n",
       "      <td>7272.0</td>\n",
       "      <td>4</td>\n",
       "      <td>0</td>\n",
       "      <td>1</td>\n",
       "      <td>0</td>\n",
       "      <td>0</td>\n",
       "      <td>1</td>\n",
       "      <td>0</td>\n",
       "    </tr>\n",
       "    <tr>\n",
       "      <th>4</th>\n",
       "      <td>1</td>\n",
       "      <td>2</td>\n",
       "      <td>1</td>\n",
       "      <td>2.0</td>\n",
       "      <td>2</td>\n",
       "      <td>2</td>\n",
       "      <td>5</td>\n",
       "      <td>5558.0</td>\n",
       "      <td>4</td>\n",
       "      <td>0</td>\n",
       "      <td>1</td>\n",
       "      <td>0</td>\n",
       "      <td>0</td>\n",
       "      <td>1</td>\n",
       "      <td>0</td>\n",
       "    </tr>\n",
       "  </tbody>\n",
       "</table>\n",
       "</div>"
      ],
      "text/plain": [
       "   Hospital_type_code  Available Extra Rooms in Hospital  Ward_Type  \\\n",
       "0                   2                                  3          0   \n",
       "1                   2                                  2          1   \n",
       "2                   4                                  2          1   \n",
       "3                   1                                  2          0   \n",
       "4                   1                                  2          1   \n",
       "\n",
       "   Bed Grade  Severity of Illness  Visitors with Patient  Age  \\\n",
       "0        2.0                    2                      2    5   \n",
       "1        2.0                    2                      2    5   \n",
       "2        2.0                    2                      2    5   \n",
       "3        2.0                    2                      2    5   \n",
       "4        2.0                    2                      2    5   \n",
       "\n",
       "   Admission_Deposit  Stay  region_X  region_Y  region_Z  Admission_Emergency  \\\n",
       "0             4911.0     0         0         0         1                    1   \n",
       "1             5954.0     4         0         0         1                    0   \n",
       "2             4745.0     3         1         0         0                    0   \n",
       "3             7272.0     4         0         1         0                    0   \n",
       "4             5558.0     4         0         1         0                    0   \n",
       "\n",
       "   Admission_Trauma  Admission_Urgent  \n",
       "0                 0                 0  \n",
       "1                 1                 0  \n",
       "2                 1                 0  \n",
       "3                 1                 0  \n",
       "4                 1                 0  "
      ]
     },
     "execution_count": 18,
     "metadata": {},
     "output_type": "execute_result"
    }
   ],
   "source": [
    "replace_map_severity = {'Severity of Illness':{'Extreme':2,'Moderate':1,'Minor':0}}\n",
    "data.replace(replace_map_severity,inplace=True)\n",
    "data.head()"
   ]
  },
  {
   "cell_type": "code",
   "execution_count": 19,
   "metadata": {},
   "outputs": [
    {
     "data": {
      "text/plain": [
       "False"
      ]
     },
     "execution_count": 19,
     "metadata": {},
     "output_type": "execute_result"
    }
   ],
   "source": [
    "data.dtypes\n",
    "data.dropna(inplace=True)\n",
    "data.isnull().values.any()"
   ]
  },
  {
   "cell_type": "code",
   "execution_count": 20,
   "metadata": {},
   "outputs": [
    {
     "data": {
      "text/plain": [
       "Hospital_type_code                   int32\n",
       "Available Extra Rooms in Hospital    int32\n",
       "Ward_Type                            int32\n",
       "Bed Grade                            int32\n",
       "Severity of Illness                  int32\n",
       "Visitors with Patient                int32\n",
       "Age                                  int32\n",
       "Admission_Deposit                    int32\n",
       "Stay                                 int32\n",
       "region_X                             int32\n",
       "region_Y                             int32\n",
       "region_Z                             int32\n",
       "Admission_Emergency                  int32\n",
       "Admission_Trauma                     int32\n",
       "Admission_Urgent                     int32\n",
       "dtype: object"
      ]
     },
     "execution_count": 20,
     "metadata": {},
     "output_type": "execute_result"
    }
   ],
   "source": [
    "data = data.astype('int32')\n",
    "data.dtypes"
   ]
  },
  {
   "cell_type": "code",
   "execution_count": 21,
   "metadata": {},
   "outputs": [],
   "source": [
    "from sklearn.model_selection import train_test_split\n",
    "X_train, X_test, Y_train, Y_test = train_test_split(data.iloc[:, data.columns != 'Stay'], data['Stay'], random_state=0)"
   ]
  },
  {
   "cell_type": "code",
   "execution_count": 22,
   "metadata": {},
   "outputs": [
    {
     "data": {
      "text/html": [
       "<div>\n",
       "<style scoped>\n",
       "    .dataframe tbody tr th:only-of-type {\n",
       "        vertical-align: middle;\n",
       "    }\n",
       "\n",
       "    .dataframe tbody tr th {\n",
       "        vertical-align: top;\n",
       "    }\n",
       "\n",
       "    .dataframe thead th {\n",
       "        text-align: right;\n",
       "    }\n",
       "</style>\n",
       "<table border=\"1\" class=\"dataframe\">\n",
       "  <thead>\n",
       "    <tr style=\"text-align: right;\">\n",
       "      <th></th>\n",
       "      <th>Hospital_type_code</th>\n",
       "      <th>Available Extra Rooms in Hospital</th>\n",
       "      <th>Ward_Type</th>\n",
       "      <th>Bed Grade</th>\n",
       "      <th>Severity of Illness</th>\n",
       "      <th>Visitors with Patient</th>\n",
       "      <th>Age</th>\n",
       "      <th>Admission_Deposit</th>\n",
       "      <th>region_X</th>\n",
       "      <th>region_Y</th>\n",
       "      <th>region_Z</th>\n",
       "      <th>Admission_Emergency</th>\n",
       "      <th>Admission_Trauma</th>\n",
       "      <th>Admission_Urgent</th>\n",
       "    </tr>\n",
       "  </thead>\n",
       "  <tbody>\n",
       "    <tr>\n",
       "      <th>278357</th>\n",
       "      <td>0</td>\n",
       "      <td>4</td>\n",
       "      <td>0</td>\n",
       "      <td>4</td>\n",
       "      <td>0</td>\n",
       "      <td>4</td>\n",
       "      <td>7</td>\n",
       "      <td>5923</td>\n",
       "      <td>1</td>\n",
       "      <td>0</td>\n",
       "      <td>0</td>\n",
       "      <td>0</td>\n",
       "      <td>1</td>\n",
       "      <td>0</td>\n",
       "    </tr>\n",
       "    <tr>\n",
       "      <th>295450</th>\n",
       "      <td>0</td>\n",
       "      <td>3</td>\n",
       "      <td>1</td>\n",
       "      <td>3</td>\n",
       "      <td>1</td>\n",
       "      <td>4</td>\n",
       "      <td>1</td>\n",
       "      <td>6145</td>\n",
       "      <td>1</td>\n",
       "      <td>0</td>\n",
       "      <td>0</td>\n",
       "      <td>0</td>\n",
       "      <td>0</td>\n",
       "      <td>1</td>\n",
       "    </tr>\n",
       "    <tr>\n",
       "      <th>68767</th>\n",
       "      <td>0</td>\n",
       "      <td>3</td>\n",
       "      <td>0</td>\n",
       "      <td>3</td>\n",
       "      <td>2</td>\n",
       "      <td>3</td>\n",
       "      <td>7</td>\n",
       "      <td>5851</td>\n",
       "      <td>1</td>\n",
       "      <td>0</td>\n",
       "      <td>0</td>\n",
       "      <td>0</td>\n",
       "      <td>1</td>\n",
       "      <td>0</td>\n",
       "    </tr>\n",
       "    <tr>\n",
       "      <th>1717</th>\n",
       "      <td>2</td>\n",
       "      <td>4</td>\n",
       "      <td>0</td>\n",
       "      <td>2</td>\n",
       "      <td>1</td>\n",
       "      <td>2</td>\n",
       "      <td>3</td>\n",
       "      <td>4704</td>\n",
       "      <td>0</td>\n",
       "      <td>0</td>\n",
       "      <td>1</td>\n",
       "      <td>0</td>\n",
       "      <td>1</td>\n",
       "      <td>0</td>\n",
       "    </tr>\n",
       "    <tr>\n",
       "      <th>239834</th>\n",
       "      <td>0</td>\n",
       "      <td>3</td>\n",
       "      <td>0</td>\n",
       "      <td>2</td>\n",
       "      <td>1</td>\n",
       "      <td>2</td>\n",
       "      <td>1</td>\n",
       "      <td>4929</td>\n",
       "      <td>0</td>\n",
       "      <td>0</td>\n",
       "      <td>1</td>\n",
       "      <td>0</td>\n",
       "      <td>1</td>\n",
       "      <td>0</td>\n",
       "    </tr>\n",
       "  </tbody>\n",
       "</table>\n",
       "</div>"
      ],
      "text/plain": [
       "        Hospital_type_code  Available Extra Rooms in Hospital  Ward_Type  \\\n",
       "278357                   0                                  4          0   \n",
       "295450                   0                                  3          1   \n",
       "68767                    0                                  3          0   \n",
       "1717                     2                                  4          0   \n",
       "239834                   0                                  3          0   \n",
       "\n",
       "        Bed Grade  Severity of Illness  Visitors with Patient  Age  \\\n",
       "278357          4                    0                      4    7   \n",
       "295450          3                    1                      4    1   \n",
       "68767           3                    2                      3    7   \n",
       "1717            2                    1                      2    3   \n",
       "239834          2                    1                      2    1   \n",
       "\n",
       "        Admission_Deposit  region_X  region_Y  region_Z  Admission_Emergency  \\\n",
       "278357               5923         1         0         0                    0   \n",
       "295450               6145         1         0         0                    0   \n",
       "68767                5851         1         0         0                    0   \n",
       "1717                 4704         0         0         1                    0   \n",
       "239834               4929         0         0         1                    0   \n",
       "\n",
       "        Admission_Trauma  Admission_Urgent  \n",
       "278357                 1                 0  \n",
       "295450                 0                 1  \n",
       "68767                  1                 0  \n",
       "1717                   1                 0  \n",
       "239834                 1                 0  "
      ]
     },
     "execution_count": 22,
     "metadata": {},
     "output_type": "execute_result"
    }
   ],
   "source": [
    "X_train.head()"
   ]
  },
  {
   "cell_type": "code",
   "execution_count": 23,
   "metadata": {},
   "outputs": [
    {
     "data": {
      "text/plain": [
       "LinearRegression()"
      ]
     },
     "execution_count": 23,
     "metadata": {},
     "output_type": "execute_result"
    }
   ],
   "source": [
    "from sklearn.linear_model import LinearRegression\n",
    "lin_reg = LinearRegression()\n",
    "lin_reg.fit(X_train,Y_train)"
   ]
  },
  {
   "cell_type": "code",
   "execution_count": 30,
   "metadata": {},
   "outputs": [
    {
     "name": "stdout",
     "output_type": "stream",
     "text": [
      "1.7230911808947968\n"
     ]
    }
   ],
   "source": [
    "from sklearn.metrics import mean_squared_error\n",
    "import numpy as np\n",
    "stay_predictions = lin_reg.predict(X_test) \n",
    "lin_mse = mean_squared_error(Y_test, stay_predictions)\n",
    "lin_rmse = np.sqrt(lin_mse)\n",
    "print(lin_rmse)"
   ]
  },
  {
   "cell_type": "code",
   "execution_count": 33,
   "metadata": {},
   "outputs": [
    {
     "name": "stdout",
     "output_type": "stream",
     "text": [
      "\u001b[1mthis method does not give the required metric accuracy score so for the next algorithm ill do a categoric one.\u001b[0m\n"
     ]
    }
   ],
   "source": [
    "print(\"\\033[1m\" + 'this method does not give the required metric accuracy score so for the next algorithm ill do a categoric one.' + \"\\033[0m\")"
   ]
  },
  {
   "cell_type": "code",
   "execution_count": 39,
   "metadata": {},
   "outputs": [],
   "source": [
    "#random forest algorithm \n",
    "from sklearn.ensemble import RandomForestClassifier\n",
    "forest = RandomForestClassifier(n_estimators=500, max_leaf_nodes=16, n_jobs=-1)\n",
    "forest.fit(X_train,Y_train)\n",
    "forest_predictions = forest.predict(X_test)"
   ]
  },
  {
   "cell_type": "code",
   "execution_count": 40,
   "metadata": {},
   "outputs": [
    {
     "name": "stdout",
     "output_type": "stream",
     "text": [
      "[2 1 1 ... 1 1 2]\n"
     ]
    }
   ],
   "source": [
    "print(forest_predictions)"
   ]
  },
  {
   "cell_type": "code",
   "execution_count": 41,
   "metadata": {},
   "outputs": [
    {
     "name": "stdout",
     "output_type": "stream",
     "text": [
      "85923     1\n",
      "146814    2\n",
      "59795     2\n",
      "100098    2\n",
      "225432    3\n",
      "         ..\n",
      "302578    1\n",
      "49662     3\n",
      "265471    0\n",
      "30277     3\n",
      "175714    1\n",
      "Name: Stay, Length: 79582, dtype: int32\n"
     ]
    }
   ],
   "source": [
    "print(Y_test)"
   ]
  },
  {
   "cell_type": "code",
   "execution_count": 42,
   "metadata": {},
   "outputs": [
    {
     "name": "stdout",
     "output_type": "stream",
     "text": [
      "36.881455605538946\n"
     ]
    }
   ],
   "source": [
    "from sklearn.metrics import accuracy_score\n",
    "acc = accuracy_score(forest_predictions,Y_test) * 100\n",
    "print(acc)"
   ]
  },
  {
   "cell_type": "code",
   "execution_count": 44,
   "metadata": {},
   "outputs": [
    {
     "data": {
      "image/png": "[encoded data removed]",
      "text/plain": [
       "<Figure size 432x288 with 2 Axes>"
      ]
     },
     "metadata": {
      "needs_background": "light"
     },
     "output_type": "display_data"
    }
   ],
   "source": [
    "from sklearn.metrics import plot_confusion_matrix\n",
    "import matplotlib.pyplot as plt\n",
    "plot_confusion_matrix(forest, X_test, Y_test)\n",
    "plt.show()"
   ]
  },
  {
   "cell_type": "code",
   "execution_count": null,
   "metadata": {},
   "outputs": [],
   "source": []
  }
 ],
 "metadata": {
  "kernelspec": {
   "display_name": "Python 3",
   "language": "python",
   "name": "python3"
  },
  "language_info": {
   "codemirror_mode": {
    "name": "ipython",
    "version": 3
   },
   "file_extension": ".py",
   "mimetype": "text/x-python",
   "name": "python",
   "nbconvert_exporter": "python",
   "pygments_lexer": "ipython3",
   "version": "3.8.5"
  }
 },
 "nbformat": 4,
 "nbformat_minor": 4
}
